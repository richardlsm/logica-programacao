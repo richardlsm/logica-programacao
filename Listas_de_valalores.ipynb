{
  "nbformat": 4,
  "nbformat_minor": 0,
  "metadata": {
    "colab": {
      "provenance": []
    },
    "kernelspec": {
      "name": "python3",
      "display_name": "Python 3"
    },
    "language_info": {
      "name": "python"
    }
  },
  "cells": [
    {
      "cell_type": "code",
      "execution_count": null,
      "metadata": {
        "id": "1DZO3bzpSNS2"
      },
      "outputs": [],
      "source": [
        "3 Tupla\n",
        "(1,2,3,4,5)"
      ]
    },
    {
      "cell_type": "code",
      "source": [
        "# Dicionario\n",
        "{\"num1\n",
        "\n",
        "\n",
        "\n",
        "\": 1, \"num2:\" 2}"
      ],
      "metadata": {
        "id": "_mEByZagSWkN"
      },
      "execution_count": null,
      "outputs": []
    }
  ]
}
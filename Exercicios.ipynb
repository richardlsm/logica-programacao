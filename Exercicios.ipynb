{
  "nbformat": 4,
  "nbformat_minor": 0,
  "metadata": {
    "colab": {
      "provenance": [],
      "toc_visible": true
    },
    "kernelspec": {
      "name": "python3",
      "display_name": "Python 3"
    },
    "language_info": {
      "name": "python"
    }
  },
  "cells": [
    {
      "cell_type": "markdown",
      "source": [],
      "metadata": {
        "id": "57cYY5x5BFWN"
      }
    },
    {
      "cell_type": "markdown",
      "source": [
        "Par ou Impar\n",
        "# peça um numero ao usuario e informe se ele é par ou impar\n"
      ],
      "metadata": {
        "id": "DceNc5w0BMxn"
      }
    },
    {
      "cell_type": "code",
      "source": [
        "numero = int(input(\"Digite um número: \"))\n",
        "if numero % 2 == 0:\n",
        "    print(\"O número é par.\")\n",
        "else:\n",
        "    print(\"O número é ímpar.\")"
      ],
      "metadata": {
        "colab": {
          "base_uri": "https://localhost:8080/"
        },
        "id": "5EL6T7boBcDS",
        "outputId": "d66573a7-d701-4254-d9ef-8a6b67cd723d"
      },
      "execution_count": null,
      "outputs": [
        {
          "output_type": "stream",
          "name": "stdout",
          "text": [
            "Digite um número: 7\n",
            "O número é ímpar.\n"
          ]
        }
      ]
    },
    {
      "cell_type": "markdown",
      "source": [
        "# Solicite dois números e mostre qual é o maior"
      ],
      "metadata": {
        "id": "1NOVgZmeD53F"
      }
    },
    {
      "cell_type": "code",
      "source": [
        "# Solicita os dois numeros ao usuário\n",
        "numero1 = int(input(\"Digite um numero \"))\n",
        "numero2 = int(input(\"Digite outro número \"))\n",
        "\n",
        "# Compara os números e exibe o resultado\n",
        "if numero1 > numero2:\n",
        "  print(\"O primeiro número é maior.\")\n",
        "elif numero2 > numero1:\n",
        "  print(\"O segundo número é maior\")\n",
        "else:\n",
        "  print(\"Os números são iguais.\")"
      ],
      "metadata": {
        "colab": {
          "base_uri": "https://localhost:8080/"
        },
        "id": "25UQ5yWjEFne",
        "outputId": "c4affb69-7429-474d-eab0-526a72565734"
      },
      "execution_count": null,
      "outputs": [
        {
          "output_type": "stream",
          "name": "stdout",
          "text": [
            "Digite um numero 5\n",
            "Digite outro número 6\n",
            "O segundo número é maior\n"
          ]
        }
      ]
    },
    {
      "cell_type": "markdown",
      "source": [
        "# Peça uma senha ao usuário e só exiba \"Acesso liberado\" se a senha for igual a \"python123\""
      ],
      "metadata": {
        "id": "Ngn-x_l1Fy5A"
      }
    },
    {
      "cell_type": "code",
      "source": [
        "senha = input(\"Digite sua senha: \")\n",
        "if senha := \"python123\":\n",
        "  print(\"Acesso liberado\")\n",
        "else:\n",
        "  print(\"Acesso negado\")"
      ],
      "metadata": {
        "colab": {
          "base_uri": "https://localhost:8080/"
        },
        "id": "2EFBEH7nGNBg",
        "outputId": "1fb38f25-5e40-4ac6-cfa1-20d87c511911"
      },
      "execution_count": null,
      "outputs": [
        {
          "output_type": "stream",
          "name": "stdout",
          "text": [
            "Digite sua senha: python123\n",
            "Acesso liberado\n"
          ]
        }
      ]
    }
  ]
}
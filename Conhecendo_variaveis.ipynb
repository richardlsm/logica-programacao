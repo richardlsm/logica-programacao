{
  "nbformat": 4,
  "nbformat_minor": 0,
  "metadata": {
    "colab": {
      "provenance": [],
      "toc_visible": true
    },
    "kernelspec": {
      "name": "python3",
      "display_name": "Python 3"
    },
    "language_info": {
      "name": "python"
    }
  },
  "cells": [
    {
      "cell_type": "code",
      "execution_count": null,
      "metadata": {
        "colab": {
          "base_uri": "https://localhost:8080/"
        },
        "id": "I5AJZf2y1s1B",
        "outputId": "6c9a9d06-b41e-4afb-a0ac-204e82ed1374"
      },
      "outputs": [
        {
          "output_type": "stream",
          "name": "stdout",
          "text": [
            "10\n"
          ]
        }
      ],
      "source": [
        "# nome da variável é \"x\" que armazena o valor 10 em um espaço na memória\n",
        "x = 10\n",
        "\n",
        "print(x) # utilizar a referencia no nome atribuido"
      ]
    },
    {
      "cell_type": "markdown",
      "source": [],
      "metadata": {
        "id": "Ll9wlUsR3yk3"
      }
    },
    {
      "cell_type": "markdown",
      "source": [
        "# Vizualização de Variáveis e textos\n"
      ],
      "metadata": {
        "id": "Nk9qEPDR4k7N"
      }
    },
    {
      "cell_type": "code",
      "source": [
        "print(\"Conhecendo o comando print\")\n",
        "x = 8\n",
        "print(x)"
      ],
      "metadata": {
        "colab": {
          "base_uri": "https://localhost:8080/"
        },
        "id": "eM75k6-F41JG",
        "outputId": "d6ca4b0d-adc1-4197-a77b-e560cc119308"
      },
      "execution_count": null,
      "outputs": [
        {
          "output_type": "stream",
          "name": "stdout",
          "text": [
            "Conhecendo o comando print\n",
            "8\n"
          ]
        }
      ]
    },
    {
      "cell_type": "code",
      "source": [
        "y = 10\n",
        "soma = x + y\n",
        "print(soma)"
      ],
      "metadata": {
        "colab": {
          "base_uri": "https://localhost:8080/"
        },
        "id": "KfU84Glv5GMI",
        "outputId": "d1f55536-d16d-4160-fd23-e0746538a5b6"
      },
      "execution_count": null,
      "outputs": [
        {
          "output_type": "stream",
          "name": "stdout",
          "text": [
            "18\n"
          ]
        }
      ]
    },
    {
      "cell_type": "code",
      "source": [
        " nome = \"Richard Lucas\"\n",
        " print(nome)"
      ],
      "metadata": {
        "colab": {
          "base_uri": "https://localhost:8080/"
        },
        "id": "XA7GuLgt58gc",
        "outputId": "b07a9a1c-1811-443b-9ce4-388a2164c0d6"
      },
      "execution_count": null,
      "outputs": [
        {
          "output_type": "stream",
          "name": "stdout",
          "text": [
            "Richard Lucas\n"
          ]
        }
      ]
    },
    {
      "cell_type": "markdown",
      "source": [
        "Concatenação\n"
      ],
      "metadata": {
        "id": "bDObB9RN6Bov"
      }
    },
    {
      "cell_type": "code",
      "source": [
        "x = 5\n",
        "print(\"O valor de x é \", x)"
      ],
      "metadata": {
        "colab": {
          "base_uri": "https://localhost:8080/"
        },
        "id": "OXXFUXuk6E9-",
        "outputId": "b7a24fce-1188-4fa5-8a23-e69231cabef5"
      },
      "execution_count": null,
      "outputs": [
        {
          "output_type": "stream",
          "name": "stdout",
          "text": [
            "O valor de x é  5\n"
          ]
        }
      ]
    },
    {
      "cell_type": "code",
      "source": [
        "# podemos usar também calculo dentro do texto. recomendado apenas se, não for usar mais de uma vez, caso use mais de uma vez, é recomendado que crie uma várivél. o código fica mais limpo\n",
        "\n",
        "print(\"O valor de x é\", x, \"e o dobro é\", x * 2)"
      ],
      "metadata": {
        "colab": {
          "base_uri": "https://localhost:8080/"
        },
        "id": "p2lBB1Hd6yBI",
        "outputId": "37db1ebf-f6c1-49a8-877e-93962ce60c80"
      },
      "execution_count": null,
      "outputs": [
        {
          "output_type": "stream",
          "name": "stdout",
          "text": [
            "O valor de x é 5 e o dobro é 10\n"
          ]
        }
      ]
    },
    {
      "cell_type": "code",
      "source": [
        "print(\"Eu,\", nome,\"tirei\", x, \"na prova de portugues\")"
      ],
      "metadata": {
        "colab": {
          "base_uri": "https://localhost:8080/"
        },
        "id": "WreQtjb07ZVs",
        "outputId": "f8ccde54-5134-4cf4-a1c2-32215e81e76f"
      },
      "execution_count": null,
      "outputs": [
        {
          "output_type": "stream",
          "name": "stdout",
          "text": [
            "Eu, Richard Lucas tirei 5 na prova de portugues\n"
          ]
        }
      ]
    },
    {
      "cell_type": "code",
      "source": [
        "# colocando \";\", posso colocar mais de uma linha\n",
        "y = 10; z = 20 + x - y\n",
        "print(\"Decalrar várias variáveis na mesma linha:\", y, z)"
      ],
      "metadata": {
        "colab": {
          "base_uri": "https://localhost:8080/"
        },
        "id": "eEoy9zNf8gf-",
        "outputId": "911c04b8-c6e4-4606-8c2c-00f834640b87"
      },
      "execution_count": null,
      "outputs": [
        {
          "output_type": "stream",
          "name": "stdout",
          "text": [
            "Decalrar várias variáveis na mesma linha: 10 15\n"
          ]
        }
      ]
    },
    {
      "cell_type": "markdown",
      "source": [
        "Type"
      ],
      "metadata": {
        "id": "AnHajlvm9fMa"
      }
    },
    {
      "cell_type": "code",
      "source": [
        "x = 10\n",
        "type(x)\n",
        "print(\"x\", type(x))\n",
        "\n",
        "nome = \"Rodrigo\"\n",
        "print(\"nome\", type(nome))\n",
        "\n",
        "num = \"100\"\n",
        "num_convert = int(num) #converter variável\n",
        "print(\"num\", type(num))\n",
        "print(\"num_convert\", type(num_convert))\n",
        "\n",
        "num_float = float(num)\n",
        "print(\"num_float\", num_float)\n"
      ],
      "metadata": {
        "colab": {
          "base_uri": "https://localhost:8080/"
        },
        "id": "Ol8GCQ-U9gk0",
        "outputId": "0d72c789-8dd8-4081-f569-05ff641a9404"
      },
      "execution_count": null,
      "outputs": [
        {
          "output_type": "stream",
          "name": "stdout",
          "text": [
            "x <class 'int'>\n",
            "nome <class 'str'>\n",
            "num <class 'str'>\n",
            "num_convert <class 'int'>\n",
            "num_float 100.0\n"
          ]
        }
      ]
    },
    {
      "cell_type": "markdown",
      "source": [
        "Input\n",
        "\n",
        "*   Armazenar a informação digitada pelo usuário em uma variável\n",
        "*   O dado armazenado sempre será um texto\n",
        "\n"
      ],
      "metadata": {
        "id": "Sog1fM3Z-_X0"
      }
    },
    {
      "cell_type": "code",
      "source": [
        "nome = input(\"Digite seu nome aqui: \") #aguardar o usuário digitar algo\n",
        "print(nome)"
      ],
      "metadata": {
        "colab": {
          "base_uri": "https://localhost:8080/"
        },
        "id": "rHKx63cz_JKN",
        "outputId": "9c2ebbe6-bf71-4283-e403-4b6a733a00d4"
      },
      "execution_count": null,
      "outputs": [
        {
          "output_type": "stream",
          "name": "stdout",
          "text": [
            "Digite seu nome aqui: Richard Lucas\n",
            "Richard Lucas\n"
          ]
        }
      ]
    },
    {
      "cell_type": "code",
      "source": [
        "nome_n = input(\"Digite seu nome aqui: \")\n",
        "print(\"Olá,\", nome_n)\n",
        "valor = input(\"Digite sua nota: \")\n",
        "print(\"Olá, meu nome é:\", nome_n, \"e a minha nota é:\", valor)"
      ],
      "metadata": {
        "colab": {
          "base_uri": "https://localhost:8080/"
        },
        "id": "pZgA7dnh_XB_",
        "outputId": "f1beca1b-f3ef-4f03-c59e-4718d86fb0e7"
      },
      "execution_count": null,
      "outputs": [
        {
          "output_type": "stream",
          "name": "stdout",
          "text": [
            "Digite seu nome aqui: Richard Analista de Dados\n",
            "Olá, Richard Analista de Dados\n",
            "Digite sua nota: 5\n",
            "Olá, meu nome é: Richard Analista de Dados e a minha nota é: 5\n"
          ]
        }
      ]
    }
  ]
}